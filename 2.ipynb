{
 "cells": [
  {
   "cell_type": "code",
   "execution_count": 236,
   "metadata": {},
   "outputs": [],
   "source": [
    "from itertools import pairwise, combinations\n",
    "from typing import List"
   ]
  },
  {
   "cell_type": "code",
   "execution_count": 146,
   "metadata": {},
   "outputs": [],
   "source": [
    "\n",
    "lines = []\n",
    "with open(\"inputs/2.txt\", 'r') as f:\n",
    "    lines = f.readlines()\n",
    "    \n",
    "input_lines = [list(map(int, line.strip().split(\" \"))) for line in lines]"
   ]
  },
  {
   "cell_type": "markdown",
   "metadata": {},
   "source": [
    "## Part 1"
   ]
  },
  {
   "cell_type": "code",
   "execution_count": null,
   "metadata": {},
   "outputs": [
    {
     "data": {
      "text/plain": [
       "407"
      ]
     },
     "execution_count": 153,
     "metadata": {},
     "output_type": "execute_result"
    }
   ],
   "source": [
    "\n",
    "\n",
    "diff_list = [[a - b for a, b in pairwise(line)] for line in input_lines]\n",
    "\n",
    "pos_mask = [all([diff > 0 for diff in diffs]) for diffs in diff_list]\n",
    "neg_mask = [all([diff < 0 for diff in diffs]) for diffs in diff_list]\n",
    "range_mask = [all([abs(diff) < 4 for diff in diffs]) for diffs in diff_list]\n",
    "\n",
    "[(pos or neg) and range for pos, neg, range in zip(pos_mask, neg_mask, range_mask)].count(True)"
   ]
  },
  {
   "cell_type": "markdown",
   "metadata": {},
   "source": [
    "## Part 2\n",
    "### Exhaustive Solution 💀"
   ]
  },
  {
   "cell_type": "code",
   "execution_count": null,
   "metadata": {},
   "outputs": [
    {
     "data": {
      "text/plain": [
       "459"
      ]
     },
     "execution_count": 277,
     "metadata": {},
     "output_type": "execute_result"
    }
   ],
   "source": [
    "validity_exhaustive = []\n",
    "for line in input_lines:\n",
    "    diff_list = [[a - b for a, b in pairwise(combi)] for combi in combinations(line, len(line) - 1)]\n",
    "    pos_mask = [all([diff > 0 for diff in diffs]) for diffs in diff_list]\n",
    "    neg_mask = [all([diff < 0 for diff in diffs]) for diffs in diff_list]\n",
    "    range_mask = [all([abs(diff) < 4 for diff in diffs]) for diffs in diff_list]\n",
    "    validity_exhaustive.append(any([(pos or neg) and range for pos, neg, range in zip(pos_mask, neg_mask, range_mask)]))\n",
    "validity_exhaustive.count(True)\n"
   ]
  },
  {
   "cell_type": "markdown",
   "metadata": {},
   "source": [
    "### Non exhaustive solution 😃\n",
    "I think there are a few edge cases that is not accounted for but it's good enough this time"
   ]
  },
  {
   "cell_type": "code",
   "execution_count": 276,
   "metadata": {},
   "outputs": [
    {
     "data": {
      "text/plain": [
       "459"
      ]
     },
     "execution_count": 276,
     "metadata": {},
     "output_type": "execute_result"
    }
   ],
   "source": [
    "def safe(a: int, b: int, asc: bool):\n",
    "    diff = a - b\n",
    "    return -4 < diff < 4 and diff != 0 and (-1 if asc else 1) * diff > 0\n",
    "\n",
    "\n",
    "def mask(report: List[int]):\n",
    "    dampened = False\n",
    "    cont = False\n",
    "    n_rep = len(report)\n",
    "    diff_list = [(a - b) > 0 for a, b in pairwise(report) if a - b != 0]\n",
    "    asc = diff_list.count(False) > diff_list.count(True)\n",
    "    \n",
    "    for i in range(n_rep - 1):\n",
    "        if cont:\n",
    "            cont = False\n",
    "            continue\n",
    "        a, b = report[i : i + 2]\n",
    "        lookahead = None\n",
    "        if i + 3 <= n_rep:\n",
    "            lookahead = report[i + 2]\n",
    "            \n",
    "        if safe(a, b, asc):\n",
    "            continue\n",
    "\n",
    "        if lookahead is None:\n",
    "            if dampened:\n",
    "                return False\n",
    "            cont = True\n",
    "            dampened = True\n",
    "            continue\n",
    "\n",
    "        if dampened:\n",
    "            return False\n",
    "\n",
    "        if safe(a, lookahead, asc):\n",
    "            cont = True\n",
    "            dampened = True\n",
    "            continue\n",
    "        if i == 0:\n",
    "            dampened = True\n",
    "            continue\n",
    "        return False\n",
    "    return True\n",
    "\n",
    "list(map(mask, input_lines)).count(True)"
   ]
  }
 ],
 "metadata": {
  "kernelspec": {
   "display_name": "Python 3",
   "language": "python",
   "name": "python3"
  },
  "language_info": {
   "codemirror_mode": {
    "name": "ipython",
    "version": 3
   },
   "file_extension": ".py",
   "mimetype": "text/x-python",
   "name": "python",
   "nbconvert_exporter": "python",
   "pygments_lexer": "ipython3",
   "version": "3.11.9"
  }
 },
 "nbformat": 4,
 "nbformat_minor": 2
}
